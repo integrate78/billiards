{
 "cells": [
  {
   "cell_type": "code",
   "execution_count": 4,
   "id": "pressing-authorization",
   "metadata": {},
   "outputs": [],
   "source": [
    "using DynamicalBilliards"
   ]
  },
  {
   "cell_type": "code",
   "execution_count": 5,
   "id": "foster-tokyo",
   "metadata": {},
   "outputs": [
    {
     "data": {
      "text/plain": [
       "1"
      ]
     },
     "execution_count": 5,
     "metadata": {},
     "output_type": "execute_result"
    }
   ],
   "source": [
    "r=1 #radius of semi-circles"
   ]
  },
  {
   "cell_type": "code",
   "execution_count": 6,
   "id": "restricted-fusion",
   "metadata": {},
   "outputs": [
    {
     "data": {
      "text/plain": [
       "Obstacle{Float64}[]"
      ]
     },
     "execution_count": 6,
     "metadata": {},
     "output_type": "execute_result"
    }
   ],
   "source": [
    "bd=Obstacle{Float64}[]"
   ]
  },
  {
   "cell_type": "code",
   "execution_count": 7,
   "id": "alive-opposition",
   "metadata": {},
   "outputs": [
    {
     "data": {
      "text/plain": [
       "Semicircle {Float64}\n",
       "center: [0.0, -1.0]\n",
       "radius: 1.0\n",
       "facedir: [0.0, 1.0]"
      ]
     },
     "execution_count": 7,
     "metadata": {},
     "output_type": "execute_result"
    }
   ],
   "source": [
    "s1=Semicircle([-1,0],r,[2,0])\n",
    "s2=Semicircle([0,1],r,[0,-2])\n",
    "s3=Semicircle([1,0],r,[-2,0])\n",
    "s4=Semicircle([0,-1],r,[0,2])"
   ]
  },
  {
   "cell_type": "code",
   "execution_count": 8,
   "id": "auburn-mouth",
   "metadata": {},
   "outputs": [
    {
     "data": {
      "text/plain": [
       "4-element Array{Obstacle{Float64},1}:\n",
       " Semicircle {Float64}\n",
       "center: [-1.0, 0.0]\n",
       "radius: 1.0\n",
       "facedir: [1.0, 0.0]\n",
       " Semicircle {Float64}\n",
       "center: [0.0, 1.0]\n",
       "radius: 1.0\n",
       "facedir: [0.0, -1.0]\n",
       " Semicircle {Float64}\n",
       "center: [1.0, 0.0]\n",
       "radius: 1.0\n",
       "facedir: [-1.0, 0.0]\n",
       " Semicircle {Float64}\n",
       "center: [0.0, -1.0]\n",
       "radius: 1.0\n",
       "facedir: [0.0, 1.0]"
      ]
     },
     "execution_count": 8,
     "metadata": {},
     "output_type": "execute_result"
    }
   ],
   "source": [
    "push!(bd,s1)\n",
    "push!(bd,s2)\n",
    "push!(bd,s3)\n",
    "push!(bd,s4)"
   ]
  },
  {
   "cell_type": "code",
   "execution_count": 9,
   "id": "buried-duncan",
   "metadata": {},
   "outputs": [
    {
     "data": {
      "text/plain": [
       "Billiard{Float64} with 4 obstacles:\n",
       "  Semicircle\n",
       "  Semicircle\n",
       "  Semicircle\n",
       "  Semicircle"
      ]
     },
     "execution_count": 9,
     "metadata": {},
     "output_type": "execute_result"
    }
   ],
   "source": [
    "bill=Billiard(bd)"
   ]
  },
  {
   "cell_type": "code",
   "execution_count": null,
   "id": "answering-childhood",
   "metadata": {},
   "outputs": [],
   "source": []
  },
  {
   "cell_type": "code",
   "execution_count": null,
   "id": "knowing-astrology",
   "metadata": {},
   "outputs": [],
   "source": [
    "using Plots"
   ]
  },
  {
   "cell_type": "code",
   "execution_count": null,
   "id": "spiritual-criminal",
   "metadata": {},
   "outputs": [],
   "source": [
    "pyplot()"
   ]
  },
  {
   "cell_type": "code",
   "execution_count": 20,
   "id": "southeast-mississippi",
   "metadata": {},
   "outputs": [
    {
     "data": {
      "text/plain": [
       "π = 3.1415926535897..."
      ]
     },
     "execution_count": 20,
     "metadata": {},
     "output_type": "execute_result"
    }
   ],
   "source": [
    "pi"
   ]
  },
  {
   "cell_type": "code",
   "execution_count": 23,
   "id": "distinguished-dallas",
   "metadata": {},
   "outputs": [
    {
     "data": {
      "text/plain": [
       "Particle{Float64}\n",
       "position: [1.7678827767662346, -0.1541831687305244]\n",
       "velocity: [0.9996254931721396, 0.027365551343920654]"
      ]
     },
     "execution_count": 23,
     "metadata": {},
     "output_type": "execute_result"
    }
   ],
   "source": [
    "p1=Particle(0,0,(3/5)pi)\n",
    "p2=randominside(bill)"
   ]
  },
  {
   "cell_type": "code",
   "execution_count": null,
   "id": "smaller-stick",
   "metadata": {},
   "outputs": [],
   "source": [
    "import DynamicalBilliards: increment_counter"
   ]
  },
  {
   "cell_type": "code",
   "execution_count": null,
   "id": "common-daisy",
   "metadata": {
    "scrolled": true
   },
   "outputs": [],
   "source": [
    "import DynamicalBilliards: isperiodic"
   ]
  },
  {
   "cell_type": "code",
   "execution_count": null,
   "id": "informational-chance",
   "metadata": {},
   "outputs": [],
   "source": [
    "function evolve!(p::AbstractParticle{T}, bd::Billiard{T}, t, raysplitters = nothing;\n",
    "    warning = false) where {T<:AbstractFloat}\n",
    "\n",
    "    if t ≤ 0\n",
    "        throw(ArgumentError(\"`evolve!()` cannot evolve backwards in time.\"))\n",
    "    end\n",
    "    if ispinned(p, bd)\n",
    "        push!(rpos, p.pos)\n",
    "        push!(rvel, p.vel)\n",
    "        push!(rt, Inf)\n",
    "        return (rt, rpos, rvel, p.ω)\n",
    "    end\n",
    "\n",
    "    ismagnetic = p isa MagneticParticle\n",
    "    isray = !isa(raysplitters, Nothing)\n",
    "    isray && acceptable_raysplitter(raysplitters, bd)\n",
    "    raysidx = raysplit_indices(bd, raysplitters)\n",
    "    ismagnetic && isray && (omegas = [p.ω])\n",
    "\n",
    "    rt = T[0.0]; rpos = [p.pos]; rvel = [p.vel]\n",
    "    count = zero(t)\n",
    "    flight = zero(T)\n",
    "    if typeof(t) == Int\n",
    "        for zzz in (rt, rpos, rvel)\n",
    "            sizehint!(zzz, t)\n",
    "        end\n",
    "    end\n",
    "\n",
    "    while count < t\n",
    "\n",
    "        i, tmin, pos, vel = bounce!(p, bd, raysidx, raysplitters)\n",
    "        flight += tmin\n",
    "\n",
    "        if isperiodic(i, bd)\n",
    "            continue\n",
    "        else\n",
    "            push!(rpos, pos + p.current_cell)\n",
    "            push!(rvel, vel)\n",
    "            push!(rt, flight)\n",
    "            ismagnetic && isray && push!(omegas, p.ω)\n",
    "            # set counter\n",
    "            count += increment_counter(t, flight)\n",
    "            flight = zero(T)\n",
    "        end\n",
    "        \n",
    "        if pos==(-r,r)||pos==(r,r)||pos==(r,-r)||pos==(-r,-r)\n",
    "            break;\n",
    "        end\n",
    "    end  #time, or collision number, loop\n",
    "\n",
    "    # Return stuff\n",
    "    if ismagnetic && isray\n",
    "        return (rt, rpos, rvel, omegas)\n",
    "    elseif ismagnetic\n",
    "        return (rt, rpos, rvel, p.ω)\n",
    "    else\n",
    "        return (rt, rpos, rvel)\n",
    "    end\n",
    "end"
   ]
  },
  {
   "cell_type": "code",
   "execution_count": null,
   "id": "mounted-female",
   "metadata": {},
   "outputs": [],
   "source": [
    "history1=evolve!(p1,bill,20)\n",
    "history2=evolve!(p2,bill,20)"
   ]
  },
  {
   "cell_type": "code",
   "execution_count": null,
   "id": "hispanic-basin",
   "metadata": {},
   "outputs": [],
   "source": [
    "PyPlot.plot(bill)\n",
    "for i=1:lastindex(history1[2])\n",
    "    l1=[history1[2][i][1],history1[2][i][2]]\n",
    "    l2=[history2[2][i][1],history2[2][i][2]]\n",
    "    PyPlot.scatter(l1[1],l1[2])\n",
    "    PyPlot.scatter(l2[1],l2[2])\n",
    "    if i==1\n",
    "        continue\n",
    "    end\n",
    "    l01=history1[2][i-1][1],history1[2][i-1][2]\n",
    "    l02=history2[2][i-1][1],history2[2][i-1][2]\n",
    "    PyPlot.plot((l1[1],l01[1]),(l1[2],l01[2]), color=:blue)\n",
    "    PyPlot.plot((l2[1],l02[1]),(l2[2],l02[2]), color=:red)\n",
    "end"
   ]
  },
  {
   "cell_type": "code",
   "execution_count": null,
   "id": "wooden-cutting",
   "metadata": {},
   "outputs": [],
   "source": []
  },
  {
   "cell_type": "code",
   "execution_count": null,
   "id": "vocal-nitrogen",
   "metadata": {},
   "outputs": [],
   "source": []
  },
  {
   "cell_type": "code",
   "execution_count": null,
   "id": "floating-switch",
   "metadata": {},
   "outputs": [],
   "source": []
  },
  {
   "cell_type": "code",
   "execution_count": null,
   "id": "aggregate-alloy",
   "metadata": {},
   "outputs": [],
   "source": []
  },
  {
   "cell_type": "code",
   "execution_count": null,
   "id": "angry-mistress",
   "metadata": {},
   "outputs": [],
   "source": []
  },
  {
   "cell_type": "code",
   "execution_count": null,
   "id": "geological-management",
   "metadata": {},
   "outputs": [],
   "source": []
  }
 ],
 "metadata": {
  "kernelspec": {
   "display_name": "Julia 1.5.3",
   "language": "julia",
   "name": "julia-1.5"
  },
  "language_info": {
   "file_extension": ".jl",
   "mimetype": "application/julia",
   "name": "julia",
   "version": "1.5.3"
  }
 },
 "nbformat": 4,
 "nbformat_minor": 5
}
